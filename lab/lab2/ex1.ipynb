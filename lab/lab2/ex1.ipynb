{
 "cells": [
  {
   "cell_type": "markdown",
   "id": "essential-american",
   "metadata": {},
   "source": [
    "# Elasticity equation\n",
    "\n",
    "In this tutorial we present how to solve the elasticity equation with [PyGeoN](https://github.com/compgeo-mox/pygeon) and [PorePy](https://github.com/pmgbergen/porepy).  The unknown is the displacement $u$.\n",
    "\n",
    "Let $\\Omega$ with boundary $\\partial \\Omega$ and outward unit normal ${\\nu}$. Given \n",
    "$\\lambda$ Lamé constant and $\\mu$ the Kirchhoff modulus, we want to solve the following problem: find $u$ such that\n",
    "$$\n",
    "\\nabla \\cdot [ 2 \\mu \\epsilon(u) + \\lambda \\nabla \\cdot u] = -b\n",
    "$$\n",
    "with $\\epsilon$ the symmetric gradient and $b$ a body force.\n",
    "\n",
    "We will use the Multi-Point Stress Approximation (MPSA) to discretise the problem."
   ]
  },
  {
   "cell_type": "markdown",
   "id": "0cc3e7db",
   "metadata": {},
   "source": [
    "## Exercise 1: rigid-body motion\n",
    "\n",
    "In the rigid-body motion the map $\\chi$ is a composition of a rotation and a traslation.\n",
    "For this test case we set $\\Omega = [0, 1]^2$, $b = 0$, and the following boundary conditions:\n",
    "$$\n",
    "u(x) = (R - I)x \\text{ on } \\partial \\Omega \n",
    "$$\n",
    "with $R$ a rotation matrix of angle $\\theta$.\n",
    "\n",
    "We present *step-by-step* how to create the grid, declare the problem data, and finally solve the problem."
   ]
  },
  {
   "cell_type": "markdown",
   "id": "planned-danger",
   "metadata": {},
   "source": [
    "First we import some of the standard modules, like `numpy` and `scipy.sparse`. Since PyGeoN is based on [PorePy](https://github.com/pmgbergen/porepy) we import both modules."
   ]
  },
  {
   "cell_type": "code",
   "execution_count": 1,
   "id": "dietary-perth",
   "metadata": {},
   "outputs": [],
   "source": [
    "import numpy as np\n",
    "import scipy.sparse as sps\n",
    "\n",
    "import porepy as pp\n",
    "import pygeon as pg"
   ]
  },
  {
   "cell_type": "markdown",
   "id": "roman-glossary",
   "metadata": {},
   "source": [
    "We create now the grid, since we use a vector Lagrangian of order 1 for ${u}$ we are restricted to simplices. In this example we consider a 2-dimensional structured grid, but the presented code will work also in 3d."
   ]
  },
  {
   "cell_type": "code",
   "execution_count": 2,
   "id": "spectacular-saturn",
   "metadata": {},
   "outputs": [
    {
     "name": "stdout",
     "output_type": "stream",
     "text": [
      "\n"
     ]
    }
   ],
   "source": [
    "mesh_size = 0.05\n",
    "dim = 2\n",
    "\n",
    "sd = pg.unit_grid(dim, mesh_size, as_mdg=False)\n",
    "sd.compute_geometry()"
   ]
  },
  {
   "cell_type": "markdown",
   "id": "precious-belle",
   "metadata": {},
   "source": [
    "With the following code we set the data, in particular the Lamé and the Kirchhoff modulus, and the boundary conditions. Since we need to identify each side of $\\partial \\Omega$ we need few steps."
   ]
  },
  {
   "cell_type": "code",
   "execution_count": 3,
   "id": "spare-person",
   "metadata": {},
   "outputs": [],
   "source": [
    "key = \"elasticity\"\n",
    "\n",
    "lambda_ = 1\n",
    "mu = 0.5\n",
    "theta = 1e-3  # 1e-1 1e-3\n",
    "\n",
    "# it's a vector field the displacement\n",
    "b_nodes = np.hstack([sd.tags[\"domain_boundary_nodes\"]] * dim)\n",
    "\n",
    "R = np.array(\n",
    "    [\n",
    "        [np.cos(theta), -np.sin(theta)],\n",
    "        [np.sin(theta), np.cos(theta)],\n",
    "    ]\n",
    ")\n",
    "bc_fun = lambda x: (R - np.eye(dim)) @ x[:2]"
   ]
  },
  {
   "cell_type": "markdown",
   "id": "6b1bfac5",
   "metadata": {},
   "source": [
    "Let us now put all the data together."
   ]
  },
  {
   "cell_type": "code",
   "execution_count": 4,
   "id": "d9e0bba4",
   "metadata": {},
   "outputs": [],
   "source": [
    "lambda_ = lambda_ * np.ones(sd.num_cells)\n",
    "mu = mu * np.ones(sd.num_cells) / 2\n",
    "C = pp.FourthOrderTensor(mu, lambda_)\n",
    "\n",
    "# Define boundary type\n",
    "b_faces = sd.get_all_boundary_faces()\n",
    "num_b_faces = b_faces.size\n",
    "labels = np.array([\"dir\"] * num_b_faces)\n",
    "\n",
    "bound = pp.BoundaryConditionVectorial(sd, b_faces, labels)\n",
    "\n",
    "bc_values = bc_fun(sd.face_centers)\n",
    "bc_values = bc_values.ravel(\"F\")\n",
    "\n",
    "# No source term\n",
    "source = np.zeros(sd.num_cells * sd.dim)\n",
    "\n",
    "# collect all data\n",
    "data = {\n",
    "    pp.PARAMETERS: {\n",
    "        key: {\n",
    "            \"fourth_order_tensor\": C,\n",
    "            \"bc_values\": bc_values,\n",
    "            \"bc\": bound,\n",
    "            \"source\": source,\n",
    "        }\n",
    "    },\n",
    "    pp.DISCRETIZATION_MATRICES: {key: {}},\n",
    "}"
   ]
  },
  {
   "cell_type": "markdown",
   "id": "secure-flesh",
   "metadata": {},
   "source": [
    "Once the data are assigned to the grid, we construct the matrices. Once the latter is created, we also construct the right-hand side containing the boundary conditions."
   ]
  },
  {
   "cell_type": "code",
   "execution_count": 5,
   "id": "subtle-wonder",
   "metadata": {},
   "outputs": [],
   "source": [
    "# discretize and solve the system\n",
    "mpsa = pp.Mpsa(key)\n",
    "mpsa.discretize(sd, data)\n",
    "\n",
    "A, b = mpsa.assemble_matrix_rhs(sd, data)\n",
    "u = sps.linalg.spsolve(A, b)"
   ]
  },
  {
   "cell_type": "markdown",
   "id": "e7dddf58",
   "metadata": {},
   "source": [
    "Compute now the tractions. Since we are solving a rigid-body motion, we can verify if the post-computed tractions, used as surrogate of the stress tensor $\\sigma$, is null."
   ]
  },
  {
   "cell_type": "code",
   "execution_count": 6,
   "id": "6a8131af",
   "metadata": {},
   "outputs": [],
   "source": [
    "# post process the traction for each face\n",
    "mat = data[pp.DISCRETIZATION_MATRICES][key]\n",
    "mat_stress = mat[mpsa.stress_matrix_key]\n",
    "mat_bound_stress = mat[mpsa.bound_stress_matrix_key]\n",
    "\n",
    "# The measure is in Pascals\n",
    "t = mat_stress @ u + mat_bound_stress @ bc_values\n",
    "\n",
    "# verify the stress and displacement\n",
    "# assert np.allclose(t, 0) # COMMENT TO AVOID ASSERTION ERROR"
   ]
  },
  {
   "cell_type": "markdown",
   "id": "b40833dd",
   "metadata": {},
   "source": [
    "In this case the stress tensor $\\sigma$ is not null, in fact the Green-Lagrange tensor $E$ is null for a rigid-body motion. We have\n",
    "$$\n",
    "   2 E = F^\\top F - I = \\nabla u + \\nabla u^\\top + \\nabla u^\\top \\nabla u\n",
    "$$\n",
    "the stress tensor si given by $2\\sigma = 2C : \\epsilon(u) = C : (\\nabla u + \\nabla u^\\top)$, where the non-linear term is missing. Under the hypothesis of small deformations the stress tensor is thus not null."
   ]
  },
  {
   "cell_type": "markdown",
   "id": "pacific-alpha",
   "metadata": {},
   "source": [
    "Since the computed $u$ is a vector per peak of the grid, for visualization purposes we project the displacement in each cell center as vector. We finally export the solution to be visualized by [ParaView](https://www.paraview.org/)."
   ]
  },
  {
   "cell_type": "code",
   "execution_count": null,
   "id": "satisfactory-jerusalem",
   "metadata": {},
   "outputs": [],
   "source": [
    "# reshape the displacement for the export\n",
    "u_3d = np.reshape(u, (sd.dim, -1), order=\"F\")\n",
    "if dim == 2:\n",
    "    u_3d = np.vstack((u_3d, np.zeros(sd.num_cells)))\n",
    "\n",
    "save = pp.Exporter(sd, \"sol\", folder_name=\"ex1\")\n",
    "save.write_vtu([(\"u\", u_3d)])"
   ]
  },
  {
   "cell_type": "code",
   "execution_count": 8,
   "id": "376efef3",
   "metadata": {},
   "outputs": [],
   "source": [
    "# Consistency check\n",
    "assert np.isclose(np.linalg.norm(u), 0.025093920575932138)"
   ]
  }
 ],
 "metadata": {
  "kernelspec": {
   "display_name": "py3.13",
   "language": "python",
   "name": "python3"
  },
  "language_info": {
   "codemirror_mode": {
    "name": "ipython",
    "version": 3
   },
   "file_extension": ".py",
   "mimetype": "text/x-python",
   "name": "python",
   "nbconvert_exporter": "python",
   "pygments_lexer": "ipython3",
   "version": "3.13.0"
  }
 },
 "nbformat": 4,
 "nbformat_minor": 5
}
