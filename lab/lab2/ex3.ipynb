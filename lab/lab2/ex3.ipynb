{
 "cells": [
  {
   "attachments": {},
   "cell_type": "markdown",
   "id": "essential-american",
   "metadata": {},
   "source": [
    "# Elasticity equation\n",
    "\n",
    "In this tutorial we present how to solve the elasticity equation with [PyGeoN](https://github.com/compgeo-mox/pygeon).  The unknown is the displacement $u$.\n",
    "\n",
    "Let $\\Omega$ with boundary $\\partial \\Omega$ and outward unit normal ${\\nu}$. Given \n",
    "$\\lambda$ Lamé constant and $\\mu$ the Kirchhoff modulus, we want to solve the following problem: find $u$ such that\n",
    "$$\n",
    "\\nabla \\cdot [ 2 \\mu \\epsilon(u) + \\lambda \\nabla \\cdot u] = -b\n",
    "$$\n",
    "with $\\epsilon$ the symmetric gradient and $b$ a body force. The stress tensor, which can be post-processed from $u$, is given by\n",
    "$$\n",
    "    \\sigma = 2 \\mu \\epsilon(u) + \\lambda \\nabla \\cdot u I\n",
    "$$\n"
   ]
  },
  {
   "cell_type": "markdown",
   "metadata": {},
   "source": [
    "## Exercise 6: cantilever beam problem\n",
    "\n",
    "A cantilever beam problem is when the body is fixed on one of the lateral boundary and subject to a body force.\n",
    "For this test case we set $\\Omega = [0, 2] \\times [0, 1]$, the body force equal to $b = [0, -0.01]^\\top$ and the following boundary conditions:\n",
    "$$ \n",
    "u = 0 \\text{ on } \\partial_{left} \\Omega \n",
    "\\qquad \n",
    "\\nu \\cdot \\sigma = 0 \\text{ on } \\partial \\Omega \\setminus \\partial_{left} \\Omega \n",
    "$$\n",
    "\n",
    "We present *step-by-step* how to create the grid, declare the problem data, and finally solve the problem."
   ]
  },
  {
   "cell_type": "markdown",
   "id": "planned-danger",
   "metadata": {},
   "source": [
    "First we import some of the standard modules, like `numpy` and `scipy.sparse`. Since PyGeoN is based on [PorePy](https://github.com/pmgbergen/porepy) we import both modules."
   ]
  },
  {
   "cell_type": "code",
   "execution_count": 1,
   "id": "dietary-perth",
   "metadata": {},
   "outputs": [],
   "source": [
    "import numpy as np\n",
    "\n",
    "import porepy as pp\n",
    "import pygeon as pg"
   ]
  },
  {
   "cell_type": "markdown",
   "id": "roman-glossary",
   "metadata": {},
   "source": [
    "We create now the grid, since we use a vector Lagrangian of order 1 for ${u}$ we are restricted to simplices. In this example we consider a 2-dimensional structured grid, but the presented code will work also in 3d."
   ]
  },
  {
   "cell_type": "code",
   "execution_count": 2,
   "id": "spectacular-saturn",
   "metadata": {},
   "outputs": [
    {
     "name": "stdout",
     "output_type": "stream",
     "text": [
      "\n"
     ]
    }
   ],
   "source": [
    "mesh_size = 0.025\n",
    "dim = 2\n",
    "\n",
    "bd_pts = np.array(\n",
    "    [\n",
    "        [0, 2, 2, 0],\n",
    "        [0, 0, 1, 1],\n",
    "    ]\n",
    ")\n",
    "sd = pg.grid_from_boundary_pts(bd_pts, mesh_size, as_mdg=False)\n",
    "sd.compute_geometry()"
   ]
  },
  {
   "cell_type": "markdown",
   "id": "precious-belle",
   "metadata": {},
   "source": [
    "With the following code we set the data, in particular the Lamé and the Kirchhoff modulus, and the boundary conditions. Since we need to identify each side of $\\partial \\Omega$ we need few steps."
   ]
  },
  {
   "cell_type": "code",
   "execution_count": 3,
   "id": "spare-person",
   "metadata": {},
   "outputs": [],
   "source": [
    "key = \"elasticity\"\n",
    "\n",
    "lambda_ = 1\n",
    "mu = 0.5\n",
    "\n",
    "left = np.hstack([np.isclose(sd.nodes[0, :], 0)] * dim)\n",
    "\n",
    "fun = lambda _: [0, -1e-2]\n",
    "\n",
    "data = {pp.PARAMETERS: {key: {\"lambda\": lambda_, \"mu\": mu}}}"
   ]
  },
  {
   "attachments": {},
   "cell_type": "markdown",
   "id": "secure-flesh",
   "metadata": {},
   "source": [
    "Once the data are assigned to the grid, we construct the matrices. Once the latter is created, we also construct the right-hand side containing the boundary conditions."
   ]
  },
  {
   "cell_type": "code",
   "execution_count": 4,
   "id": "romance-findings",
   "metadata": {},
   "outputs": [],
   "source": [
    "vec_p1 = pg.VecLagrange1(key)\n",
    "\n",
    "# we construct the matrix\n",
    "A = vec_p1.assemble_stiff_matrix(sd, data)\n",
    "# we compute the body force\n",
    "mass = vec_p1.assemble_mass_matrix(sd)\n",
    "bd = vec_p1.interpolate(sd, fun)\n",
    "b = mass @ bd"
   ]
  },
  {
   "cell_type": "markdown",
   "id": "mobile-nirvana",
   "metadata": {},
   "source": [
    "We need to solve the linear system, PyGeoN provides a framework for that. The actual imposition of essential boundary conditions (displacement boundary conditions) might change the symmetry of the global system, the class `pg.LinearSystem` preserves this structure by internally eliminating these degrees of freedom."
   ]
  },
  {
   "cell_type": "code",
   "execution_count": 5,
   "id": "subtle-wonder",
   "metadata": {},
   "outputs": [],
   "source": [
    "ls = pg.LinearSystem(A, b)\n",
    "ls.flag_ess_bc(left, np.zeros(vec_p1.ndof(sd)))\n",
    "u = ls.solve()"
   ]
  },
  {
   "cell_type": "markdown",
   "metadata": {},
   "source": [
    "Compute now the stress tensor, one `sd.dim` x `sd.dim` tensor per cell."
   ]
  },
  {
   "cell_type": "code",
   "execution_count": 6,
   "metadata": {},
   "outputs": [],
   "source": [
    "cell_sigma = vec_p1.compute_stress(sd, u, data)\n",
    "\n",
    "# split the tensor in each component for the exporting\n",
    "cell_sigma_xx = cell_sigma[:, 0, 0]\n",
    "cell_sigma_xy = cell_sigma[:, 0, 1]\n",
    "cell_sigma_yy = cell_sigma[:, 1, 1]"
   ]
  },
  {
   "cell_type": "markdown",
   "id": "pacific-alpha",
   "metadata": {},
   "source": [
    "Since the computed $u$ is a vector per peak of the grid, for visualization purposes we project the displacement in each cell center as vector. We finally export the solution to be visualized by [ParaView](https://www.paraview.org/)."
   ]
  },
  {
   "cell_type": "code",
   "execution_count": 7,
   "id": "satisfactory-jerusalem",
   "metadata": {},
   "outputs": [],
   "source": [
    "# we need to add the z component for the exporting\n",
    "u = np.hstack((u, np.zeros(sd.num_nodes))).reshape((3, -1))\n",
    "\n",
    "save = pp.Exporter(sd, \"sol\", folder_name=\"ex6\")\n",
    "save.write_vtu(\n",
    "    [\n",
    "        (\"cell_sigma_xx\", cell_sigma_xx),\n",
    "        (\"cell_sigma_xy\", cell_sigma_xy),\n",
    "        (\"cell_sigma_yy\", cell_sigma_yy),\n",
    "    ],\n",
    "    data_pt=[(\"u\", u)],\n",
    ")"
   ]
  },
  {
   "cell_type": "code",
   "execution_count": 10,
   "id": "f4623961",
   "metadata": {},
   "outputs": [],
   "source": [
    "# Consistency check\n",
    "assert np.isclose(np.linalg.norm(u), 7.068220599848298)\n",
    "assert np.isclose(np.linalg.norm(cell_sigma), 3.12159609914547)"
   ]
  }
 ],
 "metadata": {
  "kernelspec": {
   "display_name": "py3.13",
   "language": "python",
   "name": "python3"
  },
  "language_info": {
   "codemirror_mode": {
    "name": "ipython",
    "version": 3
   },
   "file_extension": ".py",
   "mimetype": "text/x-python",
   "name": "python",
   "nbconvert_exporter": "python",
   "pygments_lexer": "ipython3",
   "version": "3.13.0"
  }
 },
 "nbformat": 4,
 "nbformat_minor": 5
}
