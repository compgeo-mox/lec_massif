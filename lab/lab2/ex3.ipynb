{
 "cells": [
  {
   "attachments": {},
   "cell_type": "markdown",
   "id": "essential-american",
   "metadata": {},
   "source": [
    "# Elasticity equation\n",
    "\n",
    "In this tutorial we present how to solve the elasticity equation with [PyGeoN](https://github.com/compgeo-mox/pygeon) and [PorePy](https://github.com/pmgbergen/porepy).  The unknown is the displacement $u$.\n",
    "\n",
    "Let $\\Omega$ with boundary $\\partial \\Omega$ and outward unit normal ${\\nu}$. Given \n",
    "$\\lambda$ Lamé constant and $\\mu$ the Kirchhoff modulus, we want to solve the following problem: find $u$ such that\n",
    "$$\n",
    "\\nabla \\cdot [ 2 \\mu \\epsilon(u) + \\lambda \\nabla \\cdot u] = -b\n",
    "$$\n",
    "with $\\epsilon$ the symmetric gradient and $b$ a body force.\n",
    "\n",
    "We will use the Multi-Point Stress Approximation (MPSA) to discretise the problem."
   ]
  },
  {
   "cell_type": "markdown",
   "metadata": {},
   "source": [
    "## Exercise 3: cantilever beam problem\n",
    "\n",
    "A cantilever beam problem is when the body is fixed on one of the lateral boundary and subject to a body force.\n",
    "For this test case we set $\\Omega = [0, 2] \\times [0, 1]$, the body force equal to $b = [0, -0.01]^\\top$ and the following boundary conditions:\n",
    "$$ \n",
    "u = 0 \\text{ on } \\partial_{left} \\Omega \n",
    "\\qquad \n",
    "\\nu \\cdot \\sigma = 0 \\text{ on } \\partial \\Omega \\setminus \\partial_{left} \\Omega \n",
    "$$\n",
    "\n",
    "We present *step-by-step* how to create the grid, declare the problem data, and finally solve the problem."
   ]
  },
  {
   "cell_type": "markdown",
   "id": "planned-danger",
   "metadata": {},
   "source": [
    "First we import some of the standard modules, like `numpy` and `scipy.sparse`. Since PyGeoN is based on [PorePy](https://github.com/pmgbergen/porepy) we import both modules."
   ]
  },
  {
   "cell_type": "code",
   "execution_count": 9,
   "id": "dietary-perth",
   "metadata": {},
   "outputs": [],
   "source": [
    "import numpy as np\n",
    "import scipy.sparse as sps\n",
    "\n",
    "import porepy as pp\n",
    "import pygeon as pg"
   ]
  },
  {
   "cell_type": "markdown",
   "id": "roman-glossary",
   "metadata": {},
   "source": [
    "We create now the grid, since we use a vector Lagrangian of order 1 for ${u}$ we are restricted to simplices. In this example we consider a 2-dimensional structured grid, but the presented code will work also in 3d."
   ]
  },
  {
   "cell_type": "code",
   "execution_count": 10,
   "id": "spectacular-saturn",
   "metadata": {},
   "outputs": [
    {
     "name": "stdout",
     "output_type": "stream",
     "text": [
      "\n"
     ]
    }
   ],
   "source": [
    "mesh_size = 0.025\n",
    "dim = 2\n",
    "\n",
    "bd_pts = np.array(\n",
    "    [\n",
    "        [0, 2, 2, 0],\n",
    "        [0, 0, 1, 1],\n",
    "    ]\n",
    ")\n",
    "sd = pg.grid_from_boundary_pts(bd_pts, mesh_size, as_mdg=False)\n",
    "sd.compute_geometry()"
   ]
  },
  {
   "cell_type": "markdown",
   "id": "precious-belle",
   "metadata": {},
   "source": [
    "With the following code we set the data, in particular the Lamé and the Kirchhoff modulus, and the boundary conditions. Since we need to identify each side of $\\partial \\Omega$ we need few steps."
   ]
  },
  {
   "cell_type": "code",
   "execution_count": 11,
   "id": "spare-person",
   "metadata": {},
   "outputs": [],
   "source": [
    "key = \"elasticity\"\n",
    "\n",
    "lambda_ = 1\n",
    "mu = 0.5\n",
    "\n",
    "fun = -1e-2"
   ]
  },
  {
   "cell_type": "markdown",
   "id": "fbdec0b4",
   "metadata": {},
   "source": [
    "Let us now put all the data together."
   ]
  },
  {
   "cell_type": "code",
   "execution_count": 12,
   "id": "771478d3",
   "metadata": {},
   "outputs": [],
   "source": [
    "# Create stiffness matrix\n",
    "lambda_ = lambda_ * np.ones(sd.num_cells)\n",
    "mu = mu * np.ones(sd.num_cells) / 2\n",
    "C = pp.FourthOrderTensor(mu, lambda_)\n",
    "\n",
    "# Define boundary type\n",
    "b_faces = sd.get_all_boundary_faces()\n",
    "num_b_faces = b_faces.size\n",
    "labels = np.array([\"neu\"] * num_b_faces)\n",
    "\n",
    "left = np.isclose(sd.face_centers[0, b_faces], 0)\n",
    "labels[left] = \"dir\"\n",
    "bound = pp.BoundaryConditionVectorial(sd, b_faces, labels)\n",
    "\n",
    "bc_values = np.zeros((sd.dim, sd.num_faces))\n",
    "\n",
    "right = np.isclose(sd.face_centers[0, :], 2)\n",
    "bc_values[1, right] = fun * sd.face_areas[right]\n",
    "bc_values = bc_values.ravel(\"F\")\n",
    "\n",
    "# No source term\n",
    "source = np.zeros(sd.num_cells * sd.dim)\n",
    "\n",
    "# collect all data\n",
    "data = {\n",
    "    pp.PARAMETERS: {\n",
    "        key: {\n",
    "            \"fourth_order_tensor\": C,\n",
    "            \"bc_values\": bc_values,\n",
    "            \"bc\": bound,\n",
    "            \"source\": source,\n",
    "        }\n",
    "    },\n",
    "    pp.DISCRETIZATION_MATRICES: {key: {}},\n",
    "}"
   ]
  },
  {
   "attachments": {},
   "cell_type": "markdown",
   "id": "secure-flesh",
   "metadata": {},
   "source": [
    "Once the data are assigned to the grid, we construct the matrices. Once the latter is created, we also construct the right-hand side containing the boundary conditions."
   ]
  },
  {
   "cell_type": "code",
   "execution_count": 13,
   "id": "romance-findings",
   "metadata": {},
   "outputs": [],
   "source": [
    "# discretize and solve the system\n",
    "mpsa = pp.Mpsa(key)\n",
    "mpsa.discretize(sd, data)\n",
    "\n",
    "A, b = mpsa.assemble_matrix_rhs(sd, data)\n",
    "u = sps.linalg.spsolve(A, b)"
   ]
  },
  {
   "cell_type": "markdown",
   "id": "pacific-alpha",
   "metadata": {},
   "source": [
    "Since the computed $u$ is a vector per peak of the grid, for visualization purposes we project the displacement in each cell center as vector. We finally export the solution to be visualized by [ParaView](https://www.paraview.org/)."
   ]
  },
  {
   "cell_type": "code",
   "execution_count": 14,
   "id": "satisfactory-jerusalem",
   "metadata": {},
   "outputs": [],
   "source": [
    "# reshape the displacement for the export\n",
    "u = np.reshape(u, (sd.dim, -1), order=\"F\")\n",
    "u_3d = np.vstack((u, np.zeros(sd.num_cells)))\n",
    "\n",
    "save = pp.Exporter(sd, \"sol\", folder_name=\"ex3\")\n",
    "save.write_vtu([(\"u\", u_3d)])"
   ]
  },
  {
   "cell_type": "code",
   "execution_count": 15,
   "id": "f4623961",
   "metadata": {},
   "outputs": [],
   "source": [
    "# Consistency check\n",
    "assert np.isclose(np.linalg.norm(u), 20.655724714254458)"
   ]
  }
 ],
 "metadata": {
  "kernelspec": {
   "display_name": "py3.13",
   "language": "python",
   "name": "python3"
  },
  "language_info": {
   "codemirror_mode": {
    "name": "ipython",
    "version": 3
   },
   "file_extension": ".py",
   "mimetype": "text/x-python",
   "name": "python",
   "nbconvert_exporter": "python",
   "pygments_lexer": "ipython3",
   "version": "3.13.0"
  }
 },
 "nbformat": 4,
 "nbformat_minor": 5
}
