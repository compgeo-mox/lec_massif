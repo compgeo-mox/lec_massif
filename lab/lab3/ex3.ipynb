{
 "cells": [
  {
   "cell_type": "markdown",
   "id": "essential-american",
   "metadata": {},
   "source": [
    "# Biot equation\n",
    "\n",
    "In this tutorial we present how to solve the (static) Biot equation with [PyGeoN](https://github.com/compgeo-mox/pygeon).  The unknown is the displacement $u$, the flux $q$ and the pressure $p$.\n",
    "\n",
    "Let $\\Omega$ with boundary $\\partial \\Omega$ and outward unit normal ${\\nu}$. Given \n",
    "$\\lambda$ Lamé constant and $\\mu$ the Kirchhoff modulus, $K$ the permeability of the porous medium and $s_0$ its storativity, and $\\alpha$ the Biot-Willis coefficient fot the coupling between the two models.\n",
    "We want to solve the following problem: find $({u}, {q}, p)$ such that\n",
    "$$\n",
    "    \\begin{aligned}\n",
    "         & \\nabla \\cdot [2 \\mu {\\epsilon}({u}) + \\lambda \\nabla \\cdot u I\n",
    "         - \\alpha p {I}] = -{b}   \\\\\n",
    "         & \\mu{q} + {K}\\nabla p = {0}                        \\\\\n",
    "         & \\partial_t (s_0 p + \\alpha \\nabla \\cdot {u}) +\n",
    "        \\nabla \\cdot {q} = \\psi\n",
    "    \\end{aligned}\n",
    "    \\quad \\text{in } \\Omega.\n",
    "$$\n",
    "with $\\epsilon$ the symmetric gradient and $b$ a body force. The stress tensor, which can be post-processed from $u$, is given by\n",
    "$$\n",
    "    \\sigma = 2 \\mu \\epsilon(u) + \\lambda \\nabla \\cdot u I - \\alpha p I\n",
    "$$\n",
    "\n",
    "We call the latter $\\Delta t$ and write the discrete problem as\n",
    "$$\n",
    "    \\begin{bmatrix}\n",
    "        K & 0 & -\\alpha D^\\top \\\\\n",
    "        0 & \\Delta t M_q & - \\Delta t B^\\top \\\\\n",
    "        \\alpha D & \\Delta t B & s_0 M_p\n",
    "    \\end{bmatrix}\n",
    "    \\begin{bmatrix}\n",
    "        u^{n+1} \\\\ q^{n+1} \\\\ p^{n+1}\n",
    "    \\end{bmatrix}\n",
    "    =\n",
    "    \\begin{bmatrix}\n",
    "        b \\\\ 0 \\\\ d^n\n",
    "    \\end{bmatrix}\n",
    "$$\n",
    "where $d^n = \\psi + s_0 M_p p^{n} + \\alpha D u^n$ contains the pressure and displacement at the previous time step,\n",
    "$K$ is the stiffness matrix associated with the elatic problem, $D$ is the coupling between the two physics, $M_q$ is the mass matrix associated to the flux variable, $B$ is the divergence matrix for the flow problem, and $M_p$ is the mass matrix associated with the pressure. All the aforementioned matrices are properly scaled by their physical parameters if not explicitly written. The second row has been multiply by $\\Delta t$ to preserve the skew-symmetry of the problem."
   ]
  },
  {
   "cell_type": "markdown",
   "id": "41fb8b09",
   "metadata": {},
   "source": [
    "## Exercise 3: injection/production problem\n",
    "\n",
    "An injection problem is when a positive/negative source is impose in a small region of the domain.\n",
    "\n",
    "For this test case we set $\\Omega = [0, 1] \\times [0, 1]$, $b = 0$, $\\psi = \\pm 1$, and the following boundary conditions:\n",
    "$$ \n",
    "\\begin{aligned}\n",
    "    &u = 0 &&\\text{ and }&& \\nu \\cdot q = 0 &&\\text{ on } \\partial_{bottom} \\Omega\n",
    "\\\\\n",
    "&\\nu \\cdot \\sigma = [0, 0]^\\top &&\\text{ and } && \\nu \\cdot q = 0 &&\\text{ on } \\partial_{left} \\Omega \\cup \\partial_{right} \\Omega\n",
    "\\\\\n",
    "&\\nu \\cdot \\sigma = [0, 0]^\\top &&\\text{ and }&& p = 0 &&\\text{ on }\\partial_{top} \\Omega \n",
    "\\end{aligned}\n",
    "$$\n",
    "\n",
    "We present *step-by-step* how to create the grid, declare the problem data, and finally solve the problem."
   ]
  },
  {
   "cell_type": "markdown",
   "id": "planned-danger",
   "metadata": {},
   "source": [
    "First we import some of the standard modules, like `numpy` and `scipy.sparse`. Since PyGeoN is based on [PorePy](https://github.com/pmgbergen/porepy) we import both modules."
   ]
  },
  {
   "cell_type": "code",
   "execution_count": 1,
   "id": "dietary-perth",
   "metadata": {},
   "outputs": [],
   "source": [
    "import numpy as np\n",
    "import scipy.sparse as sps\n",
    "\n",
    "import porepy as pp\n",
    "import pygeon as pg"
   ]
  },
  {
   "cell_type": "markdown",
   "id": "roman-glossary",
   "metadata": {},
   "source": [
    "We create now the grid, since we use a vector Lagrangian of order 1 for ${u}$ and Raivar-Thomas for the flux $q$, we are restricted to simplices. In this example we consider a 2-dimensional structured grid, but the presented code will work also in 3d."
   ]
  },
  {
   "cell_type": "code",
   "execution_count": 2,
   "id": "spectacular-saturn",
   "metadata": {},
   "outputs": [
    {
     "name": "stdout",
     "output_type": "stream",
     "text": [
      "\n"
     ]
    }
   ],
   "source": [
    "mesh_size = 0.05\n",
    "delta_t = 0.1\n",
    "num_steps = 10\n",
    "dim = 2\n",
    "\n",
    "sd = pg.unit_grid(dim, mesh_size, as_mdg=False)\n",
    "sd.compute_geometry()"
   ]
  },
  {
   "cell_type": "markdown",
   "id": "precious-belle",
   "metadata": {},
   "source": [
    "With the following code we set the data and the boundary conditions. Since we need to identify each side of $\\partial \\Omega$ we need few steps."
   ]
  },
  {
   "cell_type": "code",
   "execution_count": 3,
   "id": "spare-person",
   "metadata": {},
   "outputs": [],
   "source": [
    "key = \"biot\"\n",
    "\n",
    "# the physical parameters of the problem, assumed constant\n",
    "lambda_ = 1\n",
    "mu = 0.5\n",
    "alpha = 1\n",
    "s0 = 1\n",
    "\n",
    "data = {}\n",
    "param = {\n",
    "    \"second_order_tensor\": pp.SecondOrderTensor(np.ones(sd.num_cells)),\n",
    "    \"lambda\": lambda_,\n",
    "    \"mu\": mu,\n",
    "}\n",
    "pp.initialize_data(sd, data, key, param)\n",
    "\n",
    "# selection of the boundary conditions\n",
    "bd_q = sd.tags[\"domain_boundary_faces\"]\n",
    "bd_q[np.isclose(sd.face_centers[1, :], 1)] = False\n",
    "\n",
    "bd_u = np.hstack([np.isclose(sd.nodes[1, :], 0)] * dim)\n",
    "\n",
    "# the scalar source term, +1 to similate injection and -1 for the production\n",
    "fun = (\n",
    "    lambda x: -1 * (x[0] > 0.45) * (x[0] < 0.55) * (x[1] > 0.45) * (x[1] < 0.55)\n",
    ")  # +1 -1"
   ]
  },
  {
   "cell_type": "markdown",
   "id": "secure-flesh",
   "metadata": {},
   "source": [
    "Once the data are assigned to the grid, we construct the matrices. Once the latter is created, we also construct the right-hand side containing the boundary conditions."
   ]
  },
  {
   "cell_type": "code",
   "execution_count": 4,
   "id": "romance-findings",
   "metadata": {},
   "outputs": [],
   "source": [
    "# definition of the discretizations\n",
    "vec_p1 = pg.VecLagrange1(key)\n",
    "p0 = pg.PwConstants(key)\n",
    "rt0 = pg.RT0(key)\n",
    "\n",
    "# dofs for the different variables\n",
    "dof_u = sd.num_nodes * dim\n",
    "dof_q = sd.num_faces\n",
    "dof_p = sd.num_cells\n",
    "dofs = np.cumsum([dof_u, dof_q, dof_p])\n",
    "\n",
    "# construction of the block matrices\n",
    "mass_q = rt0.assemble_mass_matrix(sd)\n",
    "mass_p = p0.assemble_mass_matrix(sd)\n",
    "div_q = mass_p @ rt0.assemble_diff_matrix(sd)\n",
    "\n",
    "sym_sym = vec_p1.assemble_symgrad_symgrad_matrix(sd)\n",
    "div_div = vec_p1.assemble_div_div_matrix(sd)\n",
    "div_u = mass_p @ vec_p1.assemble_div_matrix(sd)\n",
    "\n",
    "stiff_u = 2 * mu * sym_sym + lambda_ * div_div\n",
    "\n",
    "# fmt: off\n",
    "# construction of the global problem\n",
    "spp = sps.block_array([[     stiff_u,              None,   -alpha * div_u.T],\n",
    "                       [        None,  delta_t * mass_q, -delta_t * div_q.T],\n",
    "                       [alpha * div_u,  delta_t * div_q,        s0 * mass_p]])\n",
    "\n",
    "\n",
    "# regroup of the right-hand side\n",
    "bd = np.hstack((bd_u, bd_q, np.zeros(dof_p, dtype=bool)))\n",
    "rhs = np.zeros_like(bd, dtype=float)\n",
    "rhs[-dof_p:] = delta_t * mass_p @ p0.interpolate(sd, fun)"
   ]
  },
  {
   "cell_type": "markdown",
   "id": "mobile-nirvana",
   "metadata": {},
   "source": [
    "We need to solve the linear system, PyGeoN provides a framework for that. The actual imposition of essential boundary conditions (displacement boundary conditions) might change the symmetry of the global system, the class `pg.LinearSystem` preserves this structure by internally eliminating these degrees of freedom."
   ]
  },
  {
   "cell_type": "code",
   "execution_count": 5,
   "id": "subtle-wonder",
   "metadata": {},
   "outputs": [
    {
     "name": "stdout",
     "output_type": "stream",
     "text": [
      "Time step 1 of 10\n",
      "Time step 2 of 10\n",
      "Time step 3 of 10\n",
      "Time step 4 of 10\n",
      "Time step 5 of 10\n",
      "Time step 6 of 10\n",
      "Time step 7 of 10\n",
      "Time step 8 of 10\n",
      "Time step 9 of 10\n",
      "Time step 10 of 10\n"
     ]
    }
   ],
   "source": [
    "# export the solution\n",
    "save = pp.Exporter(sd, \"sol\", folder_name=\"ex3\")\n",
    "\n",
    "# initialization of the solution\n",
    "u = np.zeros(dof_u)\n",
    "q = np.zeros(dof_q)\n",
    "p = np.zeros(dof_p)\n",
    "\n",
    "# solution of the problem\n",
    "for n in np.arange(num_steps):\n",
    "    print(f\"Time step {n + 1} of {num_steps}\")\n",
    "\n",
    "    # update of the right-hand side\n",
    "    rhs_n = rhs.copy()\n",
    "    rhs_n[-dof_p:] += s0 * mass_p @ p + alpha * div_u @ u\n",
    "\n",
    "    # solution of the linear system\n",
    "    ls = pg.LinearSystem(spp, rhs_n)\n",
    "    ls.flag_ess_bc(bd, np.zeros_like(bd))\n",
    "    x = ls.solve()\n",
    "\n",
    "    # split of the solution from the vector x\n",
    "    u, q, p = np.split(x, dofs[:-1])\n",
    "\n",
    "    # post-processing for the export\n",
    "    # compute the cell flow, one vector per cell\n",
    "    proj_q = rt0.eval_at_cell_centers(sd)\n",
    "    cell_q = (proj_q @ q).reshape((3, -1))\n",
    "    cell_p = p0.eval_at_cell_centers(sd) @ p\n",
    "    node_u = np.hstack((u, np.zeros(sd.num_nodes))).reshape((3, -1))\n",
    "\n",
    "    # export the solution\n",
    "    save.write_vtu(\n",
    "        [\n",
    "            (\"cell_q\", cell_q),\n",
    "            (\"cell_p\", cell_p),\n",
    "        ],\n",
    "        data_pt=[(\"u\", node_u)],\n",
    "        time_step=n,\n",
    "    )"
   ]
  },
  {
   "cell_type": "code",
   "execution_count": 8,
   "id": "a99ec8fe",
   "metadata": {},
   "outputs": [],
   "source": [
    "# Consistency check\n",
    "assert np.isclose(np.linalg.norm(cell_q), 0.24439262818754492)\n",
    "assert np.isclose(np.linalg.norm(cell_p), 0.11005300364789791)\n",
    "assert np.isclose(np.linalg.norm(u), 0.014690795255353255)"
   ]
  }
 ],
 "metadata": {
  "kernelspec": {
   "display_name": "py3.13",
   "language": "python",
   "name": "python3"
  },
  "language_info": {
   "codemirror_mode": {
    "name": "ipython",
    "version": 3
   },
   "file_extension": ".py",
   "mimetype": "text/x-python",
   "name": "python",
   "nbconvert_exporter": "python",
   "pygments_lexer": "ipython3",
   "version": "3.13.0"
  }
 },
 "nbformat": 4,
 "nbformat_minor": 5
}
