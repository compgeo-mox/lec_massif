{
 "cells": [
  {
   "cell_type": "markdown",
   "id": "essential-american",
   "metadata": {},
   "source": [
    "# Finite volume methods for the Darcy equation\n",
    "\n",
    "In this tutorial we present how to solve a Darcy equation with [PorePy](https://github.com/pmgbergen/porepy) by using two finite volume methods: two-point flux approximation (TPFA) and multi-point flux approximation (MPFA).\n",
    "\n",
    "## Exercise 1\n",
    "\n",
    "We consider the primal formulation of the Darcy problem: the only unknown is the pressure $p$.\n",
    "We want to solve the problem on different families of grids.\n",
    "\n",
    "Let $\\Omega = [0, 1]^2$ be the domain of interest with boundary $\\partial \\Omega$ and outward unit normal ${\\nu}$. Given \n",
    "$k=I$ the matrix permeability and $f = 1$ the source term, we want to solve the following problem: find $p$ such that\n",
    "$$\n",
    "\\nabla \\cdot (- \\nabla p) = f\n",
    "\\quad \\text{in } \\Omega\n",
    "$$\n",
    "with boundary conditions:\n",
    "$$ p = 0 \\text{ on } \\partial \\Omega$$\n",
    "\n",
    "\n",
    "We present *step-by-step* how to create the grid, declare the problem data, and finally solve the problem."
   ]
  },
  {
   "cell_type": "markdown",
   "id": "planned-danger",
   "metadata": {},
   "source": [
    "First we import some of the standard modules."
   ]
  },
  {
   "cell_type": "code",
   "execution_count": 1,
   "id": "dietary-perth",
   "metadata": {},
   "outputs": [],
   "source": [
    "import numpy as np\n",
    "\n",
    "import porepy as pp\n",
    "import pygeon as pg"
   ]
  },
  {
   "cell_type": "markdown",
   "id": "roman-glossary",
   "metadata": {},
   "source": [
    "We create now the grid, which could be: Cartesian, simplicial, Voronoi, or octagonal."
   ]
  },
  {
   "cell_type": "code",
   "execution_count": 2,
   "id": "spectacular-saturn",
   "metadata": {},
   "outputs": [
    {
     "name": "stdout",
     "output_type": "stream",
     "text": [
      "\n"
     ]
    }
   ],
   "source": [
    "dim = 2\n",
    "\n",
    "# creation of a Cartesian grid\n",
    "# sd = pp.CartGrid([25]*dim, [1]*dim)\n",
    "# pg.convert_from_pp(sd)\n",
    "\n",
    "# creation of a simplex grid\n",
    "sd = pg.unit_grid(dim, 0.05, as_mdg=False)\n",
    "\n",
    "# creation of a Voronoi grid (only 2d)\n",
    "# sd = pg.VoronoiGrid(num_pts=200, seed=0)\n",
    "\n",
    "# creation of an octagonal grid (only 2d)\n",
    "# sd = pg.OctagonGrid([25]*dim, [1]*dim)\n",
    "\n",
    "# compute the geometrical properties of the grid\n",
    "sd.compute_geometry()\n",
    "\n",
    "# represent the grid\n",
    "# pp.plot_grid(sd, plot_2d=True)"
   ]
  },
  {
   "cell_type": "markdown",
   "id": "precious-belle",
   "metadata": {},
   "source": [
    "With the following code we set the data, in particular the permeability tensor and the scalar source."
   ]
  },
  {
   "cell_type": "code",
   "execution_count": 3,
   "id": "spare-person",
   "metadata": {},
   "outputs": [],
   "source": [
    "key = \"flow\"\n",
    "\n",
    "# set up the data for the flow problem\n",
    "data = {}\n",
    "\n",
    "# Permeability\n",
    "perm = pp.SecondOrderTensor(np.ones(sd.num_cells))\n",
    "\n",
    "# Boundary conditions\n",
    "b_faces = sd.tags[\"domain_boundary_faces\"].nonzero()[0]\n",
    "bc = pp.BoundaryCondition(sd, b_faces, [\"dir\"] * b_faces.size)\n",
    "bc_val = np.zeros(sd.num_faces)\n",
    "\n",
    "# Collect all parameters in a dictionary\n",
    "parameters = {\"second_order_tensor\": perm, \"bc\": bc, \"bc_values\": bc_val}\n",
    "\n",
    "data = pp.initialize_default_data(sd, {}, key, parameters)"
   ]
  },
  {
   "cell_type": "markdown",
   "id": "secure-flesh",
   "metadata": {},
   "source": [
    "Once the data are assigned to the grid, we need to construct the discrete problem. In particular, the linear system associated with the equation is given as\n",
    "$$\n",
    "A p = b\n",
    "$$<br>\n",
    "The right-hand side term $b$ includes the part associated with the scalar source term and with the boundary conditions, we construct first the former."
   ]
  },
  {
   "cell_type": "code",
   "execution_count": 4,
   "id": "1d031222",
   "metadata": {},
   "outputs": [],
   "source": [
    "# construct the rhs from the discretization of the scalar source term\n",
    "p0 = pg.PwConstants(key)\n",
    "# NOTE: we do not use the mass matrix here, since PorePy uses a different convention for the scalar variables\n",
    "scalar_source = p0.interpolate(sd, lambda _: 1)"
   ]
  },
  {
   "cell_type": "markdown",
   "id": "27f95284",
   "metadata": {},
   "source": [
    "Second, we construct the matrix $A$ from the TPFA approximation and the part of the right-hand side associated to the boundary conditions. We can compute the pressure $p$ by solving the linear system."
   ]
  },
  {
   "cell_type": "code",
   "execution_count": 5,
   "id": "romance-findings",
   "metadata": {},
   "outputs": [],
   "source": [
    "# construct the lhr and rhs from the discretization of the diffusion operator\n",
    "tpfa = pp.Tpfa(key)\n",
    "tpfa.discretize(sd, data)\n",
    "A_tpfa, b_tpfa = tpfa.assemble_matrix_rhs(sd, data)\n",
    "\n",
    "\n",
    "# solve the problem\n",
    "ls = pg.LinearSystem(A_tpfa, b_tpfa + scalar_source)\n",
    "cell_p_tpfa = ls.solve()"
   ]
  },
  {
   "cell_type": "markdown",
   "id": "07970afc",
   "metadata": {},
   "source": [
    "Alternatively to TPFA we can use the MPFA scheme to construct the matrix $A$, and associated right-hand side, and then compute the pressure $p$."
   ]
  },
  {
   "cell_type": "code",
   "execution_count": 6,
   "id": "b2e5aa5a",
   "metadata": {},
   "outputs": [],
   "source": [
    "# construct the lhr and rhs from the discretization of the diffusion operator\n",
    "mpfa = pp.Mpfa(key)\n",
    "mpfa.discretize(sd, data)\n",
    "A_mpfa, b_mpfa = mpfa.assemble_matrix_rhs(sd, data)\n",
    "\n",
    "# solve the problem\n",
    "ls = pg.LinearSystem(A_mpfa, b_mpfa + scalar_source)\n",
    "cell_p_mpfa = ls.solve()"
   ]
  },
  {
   "cell_type": "markdown",
   "id": "a7e2925e",
   "metadata": {},
   "source": [
    "Let us compute the $L^2$-difference between the two solutions."
   ]
  },
  {
   "cell_type": "code",
   "execution_count": 7,
   "id": "ce87a982",
   "metadata": {},
   "outputs": [
    {
     "name": "stdout",
     "output_type": "stream",
     "text": [
      "difference 0.01573811414734224 0.0004092830036998993\n"
     ]
    }
   ],
   "source": [
    "# compute the difference between the two solutions\n",
    "diff = cell_p_tpfa - cell_p_mpfa\n",
    "\n",
    "mass = p0.assemble_mass_matrix(sd)\n",
    "\n",
    "norm_mpfa = np.sqrt(cell_p_mpfa.T @ mass @ cell_p_mpfa)\n",
    "norm_diff = np.sqrt(diff.T @ mass @ diff) / norm_mpfa\n",
    "\n",
    "print(\"difference\", norm_diff, norm_diff / norm_mpfa)"
   ]
  },
  {
   "cell_type": "markdown",
   "id": "pacific-alpha",
   "metadata": {},
   "source": [
    "We export the solutions to be visualized by [ParaView](https://www.paraview.org/)."
   ]
  },
  {
   "cell_type": "code",
   "execution_count": 8,
   "id": "satisfactory-jerusalem",
   "metadata": {},
   "outputs": [],
   "source": [
    "save = pp.Exporter(sd, \"sol\", folder_name=\"ex1\")\n",
    "save.write_vtu([(\"cell_p_tpfa\", cell_p_tpfa), (\"cell_p_mpfa\", cell_p_mpfa)])"
   ]
  },
  {
   "cell_type": "code",
   "execution_count": 9,
   "id": "1f3aba17",
   "metadata": {},
   "outputs": [],
   "source": [
    "# Consistency check\n",
    "assert np.isclose(np.linalg.norm(norm_diff), 0.01573811414734224)"
   ]
  }
 ],
 "metadata": {
  "kernelspec": {
   "display_name": "py3.13",
   "language": "python",
   "name": "python3"
  },
  "language_info": {
   "codemirror_mode": {
    "name": "ipython",
    "version": 3
   },
   "file_extension": ".py",
   "mimetype": "text/x-python",
   "name": "python",
   "nbconvert_exporter": "python",
   "pygments_lexer": "ipython3",
   "version": "3.13.0"
  }
 },
 "nbformat": 4,
 "nbformat_minor": 5
}
